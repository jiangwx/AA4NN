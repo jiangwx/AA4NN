{
 "cells": [
  {
   "cell_type": "code",
   "execution_count": 1,
   "metadata": {},
   "outputs": [],
   "source": [
    "import caffe\n",
    "\n",
    "import numpy as np\n",
    "from numpy import array\n",
    "from numpy.random import normal\n",
    "from matplotlib import pyplot\n",
    "import os, sys\n",
    "import struct\n",
    "\n",
    "caffe.set_device(0)  \n",
    "caffe.set_mode_gpu()\n",
    "\n",
    "\n",
    "model_def = '/home/jerry/caffe-bvlc/examples/bvlc_alexnet/train_val.prototxt'\n",
    "# model_def = '/home/jerry/caffe-bvlc/examples/bvlc_alexnet/deploy.prototxt'\n",
    "model_weights = '/home/jerry/caffe-bvlc/examples/bvlc_alexnet/bvlc_alexnet.caffemodel'\n",
    "\n"
   ]
  },
  {
   "cell_type": "code",
   "execution_count": 2,
   "metadata": {},
   "outputs": [
    {
     "name": "stdout",
     "output_type": "stream",
     "text": [
      "(256, 1728)\n"
     ]
    }
   ],
   "source": [
    "f_path = './npy/c5_2d.npy'\n",
    "c5_2d = np.load(f_path)\n",
    "print c5_2d.shape\n",
    "w5_coeff  = c5_2d.reshape(256, 192, 3, 3)"
   ]
  },
  {
   "cell_type": "code",
   "execution_count": 3,
   "metadata": {},
   "outputs": [],
   "source": [
    "def rate(num, p):\n",
    "    s = 0\n",
    "    for i in num[15:-p:-1]:\n",
    "        s += i\n",
    "\n",
    "    return (s+num[0])/num.sum(-1)"
   ]
  },
  {
   "cell_type": "code",
   "execution_count": 4,
   "metadata": {},
   "outputs": [
    {
     "name": "stdout",
     "output_type": "stream",
     "text": [
      "(192, 3, 3)\n",
      "(256, 192, 3, 3)\n",
      "(256,)\n"
     ]
    }
   ],
   "source": [
    "## Only coefff\n",
    "p_coeff = -7\n",
    "\n",
    "param = [0, 1.0e-1, 1.0e-2, 1.0e-3, 1.0e-4, 1.0e-5,1.0e-6, 1.0e-7, 1.0e-8, 1.0e-9, 1.0e-10, 1.0e-11, 1.0e-12, 1.0e-13, 1.0e-14, 1.0e-15]\n",
    "# param = 0\n",
    "idx = w5_coeff < param[-p_coeff]\n",
    "\n",
    "mask_in_kernel = np.ones(256* 192*3*3, dtype=np.float32).reshape(256, 192, 3, 3)\n",
    "mask_in_kernel[idx] = 0\n",
    "print mask_in_kernel[0].shape  ##(192, 3, 3)\n",
    "\n",
    "## Prune In Kernel\n",
    "net_in_kernel = caffe.Net(model_def,      # defines the structure of the model\n",
    "                model_weights,  # contains the trained weights\n",
    "                caffe.TEST)     # use test mode (e.g., don't perform dropout)\n",
    "\n",
    "w5_in_kernel = net_in_kernel.params['conv5'][0].data\n",
    "b5_in_kernel = net_in_kernel.params['conv5'][1].data\n",
    "print w5_in_kernel.shape\n",
    "print b5_in_kernel.shape\n",
    "\n",
    "w5_prune_in_kernel = w5_in_kernel * mask_in_kernel\n",
    "net_in_kernel.params['conv5'][0].data[...] = w5_prune_in_kernel\n",
    "# prune_in_kernel_model = '/home/jerry/caffe-bvlc/examples/bvlc_alexnet/alexnet_pc50_in_kernel.caffemodel'\n",
    "# net_in_kernel.save(prune_in_kernel_model)"
   ]
  },
  {
   "cell_type": "code",
   "execution_count": 5,
   "metadata": {},
   "outputs": [
    {
     "name": "stdout",
     "output_type": "stream",
     "text": [
      "221184\n"
     ]
    }
   ],
   "source": [
    "# p_rate = 0.3107\n",
    "p_rate = 0.5\n",
    "p_num = int(256*1728*p_rate)\n",
    "print p_num"
   ]
  },
  {
   "cell_type": "code",
   "execution_count": 6,
   "metadata": {},
   "outputs": [],
   "source": [
    "## Ci *Wi\n",
    "\n",
    "net_c5w5 = caffe.Net(model_def,      # defines the structure of the model\n",
    "                model_weights,  # contains the trained weights\n",
    "                caffe.TEST)     # use test mode (e.g., don't perform dropout)\n",
    "\n",
    "w5_c5w5 = net_c5w5.params['conv5'][0].data\n",
    "# b5_c5w5 = net_c5w5.params['conv5'][1].data\n",
    "c5_w5 =w5_coeff*w5_c5w5\n",
    "c5_w5_1d =abs(c5_w5).reshape(256*1728)\n",
    "c5_w5_1d.sort(axis=0)\n",
    "\n",
    "idx_c5w5 = abs(c5_w5) < c5_w5_1d[p_num - 1]\n",
    "\n",
    "mask_c5w5 = np.ones(256* 192*3*3, dtype=np.float32).reshape(256, 192, 3, 3)\n",
    "mask_c5w5[idx_c5w5] = 0\n",
    "# print mask_c5w5[0].shape  ##(192, 3, 3)\n",
    "\n",
    "net_c5w5.params['conv5'][0].data[...] = w5_c5w5 * mask_c5w5\n",
    "# print w5_prune_c5w5[0]\n",
    "# print '###'\n",
    "# print w5_c5w5[0]"
   ]
  },
  {
   "cell_type": "code",
   "execution_count": 7,
   "metadata": {},
   "outputs": [
    {
     "name": "stdout",
     "output_type": "stream",
     "text": [
      "(442368,)\n",
      "[1.4089139e-08 1.7953059e-07 3.3432823e-07 ... 3.0816948e-01 3.2797512e-01\n",
      " 3.3826050e-01]\n",
      "0.011744433\n"
     ]
    }
   ],
   "source": [
    "## Song Han\n",
    "\n",
    "\n",
    "\n",
    "net_Song = caffe.Net(model_def,      # defines the structure of the model\n",
    "                model_weights,  # contains the trained weights\n",
    "                caffe.TEST) \n",
    "w5_Song = net_Song.params['conv5'][0].data\n",
    "\n",
    "w5_1d = w5_Song.reshape(256*1728)\n",
    "w5_1d = abs(w5_1d)\n",
    "w5_1d.sort(axis=0)  ## for small to big\n",
    "# print w5_1d[0]\n",
    "\n",
    "# print w5_Song.sort\n",
    "\n",
    "print w5_1d.shape\n",
    "print w5_1d\n",
    "\n",
    "\n",
    "p_param = w5_1d[p_num - 1]\n",
    "print p_param\n",
    "idx_Song = abs(w5_Song) < p_param\n",
    "mask_Song = np.ones(256* 192*3*3, dtype=np.float32).reshape(256, 192, 3, 3)\n",
    "mask_Song[idx_Song] = 0\n",
    "\n",
    "net_Song.params['conv5'][0].data[...] =w5_Song * mask_Song\n"
   ]
  },
  {
   "cell_type": "code",
   "execution_count": 8,
   "metadata": {},
   "outputs": [
    {
     "name": "stdout",
     "output_type": "stream",
     "text": [
      "221185\n",
      "221185\n"
     ]
    }
   ],
   "source": [
    "print np.count_nonzero(mask_c5w5)\n",
    "print np.count_nonzero(mask_Song)"
   ]
  },
  {
   "cell_type": "code",
   "execution_count": 24,
   "metadata": {},
   "outputs": [],
   "source": [
    "net_base = caffe.Net(model_def,      # defines the structure of the model\n",
    "                model_weights,  # contains the trained weights\n",
    "                caffe.TEST)     # use test mode (e.g., don't perform dropout)\n",
    "\n",
    "# p_net = caffe.Net(model_def,      # defines the structure of the model\n",
    "#                 prune_kernel_model,  # contains the trained weights\n",
    "#                 caffe.TEST)     # use test mode (e.g., don't perform dropout)\n",
    "\n",
    "# pc50_net = caffe.Net(model_def,      # defines the structure of the model\n",
    "#                 prune_in_kernel_model,  # contains the trained weights\n",
    "#                 caffe.TEST)     # use test mode (e.g., don't perform dropout)"
   ]
  },
  {
   "cell_type": "code",
   "execution_count": 23,
   "metadata": {},
   "outputs": [
    {
     "name": "stdout",
     "output_type": "stream",
     "text": [
      "Loss:  0.9318228471279144 Accuracy: 0.7793999963998794\n",
      "Loss:  1.7995616042613982 Accuracy: 0.6259999999403953\n",
      "Loss:  0.9734689846634865 Accuracy: 0.7597999966144562\n"
     ]
    }
   ],
   "source": [
    "def loss_acc_test(net, test_iter):\n",
    "    loss = np.zeros(1)\n",
    "    acc = np.zeros(1)\n",
    "    test_loss = 0\n",
    "    test_accuracy = 0\n",
    "    for test_it in range(test_iter):\n",
    "        net.forward()\n",
    "\n",
    "        test_loss += net.blobs['loss'].data    \n",
    "        test_accuracy += net.blobs['accuracy'].data    \n",
    "        loss[0] = test_loss / test_iter \n",
    "        acc[0] = test_accuracy / test_iter\n",
    "#     return loss[0], acc[0]  \n",
    "    print 'Loss: ', loss[0], 'Accuracy:', acc[0]\n",
    "\n",
    "iter_ = 100\n",
    "\n",
    "print 'Benchmark:'\n",
    "loss_acc_test(net_base, iter_)\n",
    "\n",
    "loss_acc_test(net_c5w5, iter_)\n",
    "loss_acc_test(net_Song, iter_)"
   ]
  },
  {
   "cell_type": "code",
   "execution_count": 33,
   "metadata": {
    "scrolled": false
   },
   "outputs": [
    {
     "name": "stdout",
     "output_type": "stream",
     "text": [
      "Benchmark: Loss [0.92719088] Accuracy [0.77584]\n",
      "Coeff*Weights: Loss [1.84362456] Accuracy [0.61764] Pruning Rate: 50%\n",
      "Song: Loss [0.96775612] Accuracy [0.76844] Pruning Rate: 50%\n"
     ]
    }
   ],
   "source": [
    "print 'Benchmark:', 'Loss', test_loss, 'Accuracy', test_acc\n",
    "# print 'Only aa Coeff:', 'Loss', pc50_test_loss, 'Accuracy', pc50_test_acc\n",
    "print 'Coeff*Weights:', 'Loss',  c5w5_test_loss, 'Accuracy', c5w5_test_acc, 'Pruning Rate: 50%'\n",
    "print 'Song:', 'Loss',  song_test_loss, 'Accuracy', song_test_acc, 'Pruning Rate: 50%'"
   ]
  },
  {
   "cell_type": "code",
   "execution_count": null,
   "metadata": {},
   "outputs": [],
   "source": [
    "if (c5w5_test_acc[0] > song_test_acc[0]): print 'c5w5 is bigger'"
   ]
  },
  {
   "cell_type": "code",
   "execution_count": null,
   "metadata": {},
   "outputs": [],
   "source": [
    "def prune_caffe_test():"
   ]
  },
  {
   "cell_type": "code",
   "execution_count": 30,
   "metadata": {},
   "outputs": [
    {
     "name": "stdout",
     "output_type": "stream",
     "text": [
      "Benchmark: Loss 0.9271908807456494 Accuracy 0.7758399975299836\n",
      "Coeff*Weights: Loss 1.8436245554685593 Accuracy 0.6176400049328804\n",
      "Song: Loss 0.9677561219632625 Accuracy 0.768439998626709\n"
     ]
    }
   ],
   "source": [
    "\n",
    "\n",
    "\n",
    "test_iter = 1000\n",
    "\n",
    "test_loss = np.zeros(1)\n",
    "test_acc = np.zeros(1)\n",
    "_test_loss = 0\n",
    "_accuracy = 0\n",
    "\n",
    "# p_test_loss = np.zeros(1)\n",
    "# p_test_acc = np.zeros(1)\n",
    "# _p_test_loss = 0\n",
    "# _p_accuracy = 0\n",
    "\n",
    "pc50_test_loss = np.zeros(1)\n",
    "pc50_test_acc = np.zeros(1)\n",
    "_pc50_test_loss = 0\n",
    "_pc50_accuracy = 0\n",
    "\n",
    "c5w5_test_loss = np.zeros(1)\n",
    "c5w5_test_acc = np.zeros(1)\n",
    "_c5w5_test_loss = 0\n",
    "_c5w5_accuracy = 0\n",
    "\n",
    "\n",
    "song_test_loss = np.zeros(1)\n",
    "song_test_acc = np.zeros(1)\n",
    "_song_test_loss = 0\n",
    "_song_accuracy = 0\n",
    "\n",
    "# p_test_loss = np.zeros(1)\n",
    "# p_test_acc = np.zeros(1)\n",
    "# _p_test_loss = 0\n",
    "# _p_accuracy = 0\n",
    "\n",
    "\n",
    "\n",
    "for test_it in range(test_iter):  \n",
    "\n",
    "    net_base.forward() \n",
    "    _test_loss += net_base.blobs['loss'].data    \n",
    "    _accuracy += net_base.blobs['accuracy'].data    \n",
    "    test_loss[0] = _test_loss / test_iter \n",
    "    test_acc[0] = _accuracy / test_iter   \n",
    "    \n",
    "    \n",
    "#     net_kernel.forward()\n",
    "#     _p_test_loss += net_kernel.blobs['loss'].data    \n",
    "#     _p_accuracy += net_kernel.blobs['accuracy'].data    \n",
    "#       p_test_acc[0] = _p_accuracy / test_iter  \n",
    "#     p_test_loss[0] = _p_test_loss / test_iter\n",
    "    \n",
    "#     net_in_kernel.forward()  \n",
    "#     # 计算test loss  \n",
    "#     _pc50_test_loss += net_in_kernel.blobs['loss'].data   \n",
    "#     # 计算test accuracy  \n",
    "#     _pc50_accuracy += net_in_kernel.blobs['accuracy'].data\n",
    "#     # 计算平均test loss  \n",
    "#     pc50_test_loss[0] = _pc50_test_loss / test_iter\n",
    "#     # 计算平均test accuracy  \n",
    "#     pc50_test_acc[0] = _pc50_accuracy / test_iter\n",
    "    \n",
    "    net_c5w5.forward()\n",
    "    _c5w5_test_loss += net_c5w5.blobs['loss'].data    \n",
    "    _c5w5_accuracy += net_c5w5.blobs['accuracy'].data    \n",
    "    c5w5_test_loss[0] = _c5w5_test_loss / test_iter \n",
    "    c5w5_test_acc[0] = _c5w5_accuracy / test_iter \n",
    "    \n",
    "    net_Song.forward()\n",
    "    _song_test_loss += net_Song.blobs['loss'].data    \n",
    "    _song_accuracy += net_Song.blobs['accuracy'].data    \n",
    "    song_test_loss[0] = _song_test_loss / test_iter \n",
    "    song_test_acc[0] = _song_accuracy / test_iter \n",
    "    \n",
    "    \n",
    "print 'Benchmark:', 'Loss', test_loss[0], 'Accuracy', test_acc[0]\n",
    "# print 'Only aa Coeff:', 'Loss', pc50_test_loss[0], 'Accuracy', pc50_test_acc[0]\n",
    "print 'Coeff*Weights:', 'Loss',  c5w5_test_loss[0], 'Accuracy', c5w5_test_acc[0]\n",
    "print 'Song:', 'Loss',  song_test_loss[0], 'Accuracy', song_test_acc[0]"
   ]
  },
  {
   "cell_type": "markdown",
   "metadata": {},
   "source": [
    "## Output Log:\n",
    "\n",
    "### w5_coeff statistics\n",
    "```\n",
    "1.0e-4:  0.0\n",
    "1.0e-5:  0.0\n",
    "1.0e-6:  2507.0\n",
    "1.0e-7:  347714.0\n",
    "1.0e-8:  84944.0\n",
    "1.0e-9:  4360.0\n",
    "1.0e-10:  394.0\n",
    "1.0e-11:  37.0\n",
    "1.0e-12:  2.0\n",
    "1.0e-13:  1.0\n",
    "1.0e-14:  0.0\n",
    "1.0e-15:  0.0\n",
    "0:  2409.0\n",
    "\n",
    "Total: 442368.0\n",
    "```\n",
    "###  1. w5_coeff < 1.0e-9\n",
    "\n",
    "#### iter = 1000\n",
    "Benchmark: \n",
    "Loss 0.9271908807456494 Accuracy 0.7758399975299836\n",
    "\n",
    "Lab Prune:\n",
    "Loss 0.9321347722709179 Accuracy 0.7750199978351593\n",
    "\n",
    "###  2. w5_coeff < 1.0e-7\n",
    "\n",
    "#### iter = 1000\n",
    "\n",
    "Benchmark: \n",
    "Loss 0.9271908807456494 Accuracy 0.7758399975299836\n",
    "\n",
    "Lab Prune: \n",
    "Loss 1.6888461483716966 Accuracy 0.6386000045239926\n",
    "\n",
    "###  3. w5_coeff < 1.0e-6\n",
    "Benchmark: \n",
    "Loss 0.9271908807456494 Accuracy 0.7758399975299836\n",
    "\n",
    "Lab Prune: \n",
    "Loss 6.850017457485199 Accuracy 0.007959999822080135"
   ]
  },
  {
   "cell_type": "code",
   "execution_count": 28,
   "metadata": {},
   "outputs": [
    {
     "name": "stdout",
     "output_type": "stream",
     "text": [
      "1.0e-4:  0.0\n",
      "1.0e-5:  0.0\n",
      "1.0e-6:  2507.0\n",
      "1.0e-7:  347714.0\n",
      "1.0e-8:  84944.0\n",
      "1.0e-9:  4360.0\n",
      "1.0e-10:  394.0\n",
      "1.0e-11:  37.0\n",
      "1.0e-12:  2.0\n",
      "1.0e-13:  1.0\n",
      "1.0e-14:  0.0\n",
      "1.0e-15:  0.0\n",
      "0:  2409.0\n",
      "\n",
      "Total: 442368.0\n",
      "Total No. Correct!\n"
     ]
    }
   ],
   "source": [
    "b_mean_all_1d = c5_2d.reshape(256*1728)\n",
    "num = np.zeros((16), dtype = np.float32)\n",
    "\n",
    "for j in range(256*1728):\n",
    "    if b_mean_all_1d[j] == 0:\n",
    "        num[0] += 1  \n",
    "    elif 0< abs(b_mean_all_1d[j]) < 1.0e-14:\n",
    "        num[15] += 1\n",
    "    elif 1.0e-14< abs(b_mean_all_1d[j]) < 1.0e-13: \n",
    "        num[14] += 1\n",
    "    elif 1.0e-13< abs(b_mean_all_1d[j]) < 1.0e-12:\n",
    "        num[13] += 1\n",
    "    elif 1.0e-12< abs(b_mean_all_1d[j]) < 1.0e-11:\n",
    "        num[12] += 1\n",
    "    elif 1.0e-11< abs(b_mean_all_1d[j]) < 1.0e-10:   \n",
    "        num[11] += 1\n",
    "    elif 1.0e-10< abs(b_mean_all_1d[j]) < 1.0e-9:   \n",
    "        num[10] += 1\n",
    "    elif 1.0e-9 <= abs(b_mean_all_1d[j]) < 1.0e-8:\n",
    "        num[9] += 1\n",
    "    elif 1.0e-8 <= abs(b_mean_all_1d[j])  < 1.0e-7:\n",
    "        num[8] += 1\n",
    "    elif 1.0e-7 <= abs(b_mean_all_1d[j])  < 1.0e-6:\n",
    "        num[7] += 1\n",
    "    elif 1.0e-6 <= abs(b_mean_all_1d[j]) < 1.0e-5:\n",
    "        num[6] += 1\n",
    "    elif 1.0e-5 <= abs(b_mean_all_1d[j])  < 1.0e-4:\n",
    "        num[5] += 1\n",
    "    elif 1.0e-4 <= abs(b_mean_all_1d[j])  < 1.0e-3:\n",
    "        num[4] += 1    \n",
    "    else :\n",
    "        n_others += 1\n",
    "            \n",
    "\n",
    "\n",
    "print '1.0e-4: ',  num[4]\n",
    "print '1.0e-5: ',  num[5]\n",
    "print '1.0e-6: ',  num[6]\n",
    "print '1.0e-7: ',  num[7]\n",
    "print '1.0e-8: ',  num[8]\n",
    "print '1.0e-9: ',  num[9]\n",
    "print '1.0e-10: ',  num[10]\n",
    "print '1.0e-11: ',  num[11]\n",
    "print '1.0e-12: ',  num[12]\n",
    "print '1.0e-13: ',  num[13]\n",
    "print '1.0e-14: ',  num[14]\n",
    "print '1.0e-15: ',  num[15]\n",
    "print '0: ',  num[0]\n",
    "print #######\n",
    "print 'Total:', np.sum(num, -1)\n",
    "if (np.sum(num, -1) == 256*1728): print 'Total No. Correct!'"
   ]
  },
  {
   "cell_type": "code",
   "execution_count": null,
   "metadata": {},
   "outputs": [],
   "source": [
    "c5_w5_1d = c5_w5.reshape(256*1728)\n",
    "num_c5w5 = np.zeros((16), dtype = np.float32)\n",
    "\n",
    "for j in range(256*1728):\n",
    "    if c5_w5_1d[j] == 0:\n",
    "        num_c5w5[0] += 1  \n",
    "    elif 0< abs(c5_w5_1d[j]) < 1.0e-14:\n",
    "        num_c5w5[15] += 1\n",
    "    elif 1.0e-14< abs(c5_w5_1d[j]) < 1.0e-13: \n",
    "        num_c5w5[14] += 1\n",
    "    elif 1.0e-13< abs(c5_w5_1d[j]) < 1.0e-12:\n",
    "        num_c5w5[13] += 1\n",
    "    elif 1.0e-12< abs(c5_w5_1d[j]) < 1.0e-11:\n",
    "        num_c5w5[12] += 1\n",
    "    elif 1.0e-11< abs(c5_w5_1d[j]) < 1.0e-10:   \n",
    "        num_c5w5[11] += 1\n",
    "    elif 1.0e-10< abs(c5_w5_1d[j]) < 1.0e-9:   \n",
    "        num_c5w5[10] += 1\n",
    "    elif 1.0e-9 <= abs(c5_w5_1d[j]) < 1.0e-8:\n",
    "        num_c5w5[9] += 1\n",
    "    elif 1.0e-8 <= abs(c5_w5_1d[j])  < 1.0e-7:\n",
    "        num_c5w5[8] += 1\n",
    "    elif 1.0e-7 <= abs(c5_w5_1d[j])  < 1.0e-6:\n",
    "        num_c5w5[7] += 1\n",
    "    elif 1.0e-6 <= abs(c5_w5_1d[j]) < 1.0e-5:\n",
    "        num_c5w5[6] += 1\n",
    "    elif 1.0e-5 <= abs(c5_w5_1d[j])  < 1.0e-4:\n",
    "        num_c5w5[5] += 1\n",
    "    elif 1.0e-4 <= abs(c5_w5_1d[j])  < 1.0e-3:\n",
    "        num_c5w5[4] += 1    \n",
    "    else :\n",
    "        n_others += 1\n",
    "            \n",
    "\n",
    "print '系数与权重乘积：'\n",
    "print '1.0e-4: ',  num_c5w5[4]\n",
    "print '1.0e-5: ',  num_c5w5[5]\n",
    "print '1.0e-6: ',  num_c5w5[6]\n",
    "print '1.0e-7: ',  num_c5w5[7]\n",
    "print '1.0e-8: ',  num_c5w5[8]\n",
    "print '1.0e-9: ',  num_c5w5[9]\n",
    "print '1.0e-10: ',  num_c5w5[10]\n",
    "print '1.0e-11: ',  num_c5w5[11]\n",
    "print '1.0e-12: ',  num_c5w5[12]\n",
    "print '1.0e-13: ',  num_c5w5[13]\n",
    "print '1.0e-14: ',  num_c5w5[14]\n",
    "print '1.0e-15: ',  num_c5w5[15]\n",
    "print '0: ',  num_c5w5[0]\n",
    "print #######\n",
    "print 'Total:', np.sum(num_c5w5, -1)\n",
    "if (np.sum(num_c5w5, -1) == 256*1728): print 'Total No. Correct!'\n"
   ]
  },
  {
   "cell_type": "code",
   "execution_count": null,
   "metadata": {},
   "outputs": [],
   "source": [
    "print rate(num, p_coeff)\n",
    "print rate(num_c5w5, p_w5c5)"
   ]
  },
  {
   "cell_type": "code",
   "execution_count": null,
   "metadata": {},
   "outputs": [],
   "source": [
    "p = -12 ## <1.0e-12 num[13]\n",
    "num_index = -p +1\n",
    "print num_index\n",
    "param =np.array([0, 1.0e-1, 1.0e-2, 1.0e-3, 1.0e-4, 1.0e-5,1.0e-6, 1.0e-7, 1.0e-8, 1.0e-9, 1.0e-10, 1.0e-11, 1.0e-12, 1.0e-13, 1.0e-14, 1.0e-15])\n",
    "\n",
    "s = 0\n",
    "for i in num[15:-p:-1]:\n",
    "    s += i\n",
    "    print i\n",
    "print s"
   ]
  },
  {
   "cell_type": "code",
   "execution_count": null,
   "metadata": {},
   "outputs": [],
   "source": [
    "a = np.array([1,2,3,4,5,6,7,8])\n",
    "a.sum(0,range(0,2))"
   ]
  },
  {
   "cell_type": "markdown",
   "metadata": {},
   "source": [
    "Benchmark:  \n",
    "Loss [0.94938668] Accuracy [0.762] Prune rate: 0\n",
    "\n",
    "只考虑aa系数的prune: \n",
    "Loss [1.70731913] Accuracy [0.67]  Prune rate: 20.83%\n",
    "\n",
    "同时考虑aa系数和权重值(二者的乘积): \n",
    "Loss [1.1640587] Accuracy [0.732] Prune rate: 31.07%\n"
   ]
  },
  {
   "cell_type": "code",
   "execution_count": null,
   "metadata": {},
   "outputs": [],
   "source": [
    "系数与权重乘积：\n",
    "1.0e-4:  0.0\n",
    "1.0e-5:  0.0\n",
    "1.0e-6:  0.0\n",
    "1.0e-7:  321.0\n",
    "1.0e-8:  40066.0\n",
    "    \n",
    "--------------------- rate 90.87% Accuracy 0.0079\n",
    "1.0e-9:  264537.0\n",
    "--------------------- rate 31.07% Accuracy 0.732\n",
    "1.0e-10:  115511.0\n",
    "1.0e-11:  17060.0\n",
    "1.0e-12:  2146.0\n",
    "1.0e-13:  288.0\n",
    "1.0e-14:  25.0\n",
    "1.0e-15:  5.0\n",
    "0:  2409.0\n",
    "    \n"
   ]
  },
  {
   "cell_type": "code",
   "execution_count": 26,
   "metadata": {},
   "outputs": [
    {
     "data": {
      "text/plain": [
       "442368"
      ]
     },
     "execution_count": 26,
     "metadata": {},
     "output_type": "execute_result"
    }
   ],
   "source": [
    "a = np.ones(256*1728)\n",
    "len(a)"
   ]
  },
  {
   "cell_type": "code",
   "execution_count": 27,
   "metadata": {},
   "outputs": [],
   "source": [
    "def range_statis(array_1d):\n",
    "    \n",
    "    num = np.zeros((16), dtype = np.float32)\n",
    "    for j in range(len(array_1d)):\n",
    "        if array_1d[j] == 0:\n",
    "            num[0] += 1  \n",
    "        elif 0< abs(array_1d[j]) < 1.0e-14:\n",
    "            num[15] += 1\n",
    "        elif 1.0e-14< abs(array_1d[j]) < 1.0e-13: \n",
    "            num[14] += 1\n",
    "        elif 1.0e-13< abs(array_1d[j]) < 1.0e-12:\n",
    "            num[13] += 1\n",
    "        elif 1.0e-12< abs(array_1d[j]) < 1.0e-11:\n",
    "            num[12] += 1\n",
    "        elif 1.0e-11< abs(array_1d[j]) < 1.0e-10:   \n",
    "            num[11] += 1\n",
    "        elif 1.0e-10< abs(array_1d[j]) < 1.0e-9:   \n",
    "            num[10] += 1\n",
    "        elif 1.0e-9 <= abs(array_1d[j]) < 1.0e-8:\n",
    "            num[9] += 1\n",
    "        elif 1.0e-8 <= abs(array_1d[j])  < 1.0e-7:\n",
    "            num[8] += 1\n",
    "        elif 1.0e-7 <= abs(array_1d[j])  < 1.0e-6:\n",
    "            num[7] += 1\n",
    "        elif 1.0e-6 <= abs(array_1d[j]) < 1.0e-5:\n",
    "            num[6] += 1\n",
    "        elif 1.0e-5 <= abs(array_1d[j])  < 1.0e-4:\n",
    "            num[5] += 1\n",
    "        elif 1.0e-4 <= abs(array_1d[j])  < 1.0e-3:\n",
    "            num[4] += 1    \n",
    "        else :\n",
    "            pass\n",
    "\n",
    "\n",
    "\n",
    "    print '1.0e-4: ',  num[4]\n",
    "    print '1.0e-5: ',  num[5]\n",
    "    print '1.0e-6: ',  num[6]\n",
    "    print '1.0e-7: ',  num[7]\n",
    "    print '1.0e-8: ',  num[8]\n",
    "    print '1.0e-9: ',  num[9]\n",
    "    print '1.0e-10: ',  num[10]\n",
    "    print '1.0e-11: ',  num[11]\n",
    "    print '1.0e-12: ',  num[12]\n",
    "    print '1.0e-13: ',  num[13]\n",
    "    print '1.0e-14: ',  num[14]\n",
    "    print '1.0e-15: ',  num[15]\n",
    "    print '0: ',  num[0]\n",
    "    print #######\n",
    "    print 'Total:', np.sum(num, -1)\n",
    "#     if (np.sum(num, -1) == 256*1728): print 'Total No. Correct!'"
   ]
  },
  {
   "cell_type": "code",
   "execution_count": 29,
   "metadata": {},
   "outputs": [
    {
     "name": "stdout",
     "output_type": "stream",
     "text": [
      "1.0e-4:  0.0\n",
      "1.0e-5:  0.0\n",
      "1.0e-6:  2507.0\n",
      "1.0e-7:  347714.0\n",
      "1.0e-8:  84944.0\n",
      "1.0e-9:  4360.0\n",
      "1.0e-10:  394.0\n",
      "1.0e-11:  37.0\n",
      "1.0e-12:  2.0\n",
      "1.0e-13:  1.0\n",
      "1.0e-14:  0.0\n",
      "1.0e-15:  0.0\n",
      "0:  2409.0\n",
      "\n",
      "Total: 442368.0\n"
     ]
    }
   ],
   "source": [
    "range_statis(b_mean_all_1d)"
   ]
  }
 ],
 "metadata": {
  "kernelspec": {
   "display_name": "Python 2",
   "language": "python",
   "name": "python2"
  },
  "language_info": {
   "codemirror_mode": {
    "name": "ipython",
    "version": 2
   },
   "file_extension": ".py",
   "mimetype": "text/x-python",
   "name": "python",
   "nbconvert_exporter": "python",
   "pygments_lexer": "ipython2",
   "version": "2.7.12"
  }
 },
 "nbformat": 4,
 "nbformat_minor": 2
}
