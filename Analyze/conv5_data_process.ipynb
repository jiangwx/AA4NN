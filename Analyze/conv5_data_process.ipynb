{
 "cells": [
  {
   "cell_type": "markdown",
   "metadata": {},
   "source": [
    "#### 注意：在处理多进程的时候，需要使用共享Array。如果不是用共享Array，则赋值会出错。本代码为测试版本。"
   ]
  },
  {
   "cell_type": "code",
   "execution_count": 1,
   "metadata": {},
   "outputs": [],
   "source": [
    "# coding: utf-8 \n",
    "import os\n",
    "import numpy as np\n",
    "import multiprocessing\n",
    "from multiprocessing import Array\n",
    "import time"
   ]
  },
  {
   "cell_type": "code",
   "execution_count": 2,
   "metadata": {},
   "outputs": [],
   "source": [
    "def listdir_nohidden(path):\n",
    "    return filter( lambda f: not f.startswith('.'), os.listdir(path))  "
   ]
  },
  {
   "cell_type": "code",
   "execution_count": 3,
   "metadata": {},
   "outputs": [],
   "source": [
    "#获取目标文件夹的路径\n",
    "# filedir = '/media/jerry/Sexxy/aa-alexnet-output/'\n",
    "# 处理好的conv5的aa系数\n",
    "filedir = '/media/jerry/Sexxy/aa-alexnet-tmp/data/'\n",
    "#获取当前文件夹中的文件名称列表  \n",
    "dir_1=list(listdir_nohidden(filedir))\n",
    "\n",
    "# print dir_1\n",
    "# print type(dir_1)\n",
    "# print len(dir_1)"
   ]
  },
  {
   "cell_type": "code",
   "execution_count": 3,
   "metadata": {},
   "outputs": [
    {
     "name": "stdout",
     "output_type": "stream",
     "text": [
      "(256, 1000, 1728)\n",
      "(256, 1728)\n"
     ]
    }
   ],
   "source": [
    "# conv5_coeff_4d = np.zeros(256* 8* 1000* 1728)\n",
    "# conv5_coeff_4d = conv5_coeff_4d.reshape(256, 8, 1000, 1728)\n",
    "\n",
    "conv5_coeff_3d = np.zeros(256* 1000* 1728)\n",
    "conv5_coeff_3d = conv5_coeff_3d.reshape(256, 1000, 1728)\n",
    "\n",
    "conv5_coeff_2d = np.zeros(256*  1728)\n",
    "conv5_coeff_2d = conv5_coeff_2d.reshape(256, 1728)\n",
    "\n",
    "# print conv5_coeff_4d.shape\n",
    "print conv5_coeff_3d.shape\n",
    "print conv5_coeff_2d.shape"
   ]
  },
  {
   "cell_type": "code",
   "execution_count": 51,
   "metadata": {},
   "outputs": [],
   "source": [
    "# ## Loop Test Line:\n",
    "# i = 0\n",
    "\n",
    "# d1 = dir_1[i].split(\".\", 1)  ## 分割符，分割次数 '0' , 'txt'\n",
    "# kernel_num = int(d1[0])\n",
    "# print kernel_num\n",
    "\n",
    "# base = filedir + dir_1[i]\n",
    "# b = np.loadtxt(base, dtype=np.float32)\n",
    "# print b.shape\n",
    "\n",
    "# c_3d = b.reshape(8, 1000, 1728)\n",
    "\n",
    "# conv5_coeff_4d[kernel_num] = c_3d\n",
    "\n",
    "# # print c_3d.shape ## (8, 1000, 1728)\n",
    "\n",
    "# c_3d = np.abs(c_3d) ## 取绝对值\n",
    "\n",
    "# d_2d = np.mean(c_3d, 0) ## 按照 8 求平均\n",
    "# # print d_2d.shape ## (1000, 1728)\n",
    "# conv5_coeff_3d[kernel_num] = d_2d ## 存入3维数组对应的kernel\n",
    "# # np.savetxt('/home/jerry/c5_2d.txt', d_2d)\n",
    "\n",
    "# e_1d= np.mean(d_2d, 0) ## (1728,)\n",
    "# # print e_1d.shape\n",
    "# conv5_coeff_2d[kernel_num] = e_1d\n",
    "# w5_coeff = e_1d.reshape(192,3,3)"
   ]
  },
  {
   "cell_type": "code",
   "execution_count": 52,
   "metadata": {},
   "outputs": [],
   "source": [
    "# test_d = np.load('/home/jerry/c5_2d.npy')\n",
    "# print test_d"
   ]
  },
  {
   "cell_type": "code",
   "execution_count": 69,
   "metadata": {},
   "outputs": [],
   "source": [
    "def worker(num1, num2):\n",
    "\n",
    "    for i in range(num1, num2):\n",
    "        print i\n",
    "        base = filedir + dir_1[i]\n",
    "        d1 = dir_1[i].split(\".\", 1)  ## 分割符，分割次数\n",
    "        kernel_num = int(d1[0])\n",
    "        \n",
    "    #     print base\n",
    "    #     print d1\n",
    "        print 'kernel_num: ', kernel_num\n",
    "\n",
    "\n",
    "        b = np.loadtxt(base, dtype=np.float32)\n",
    "        print b.shape\n",
    "\n",
    "        c_3d = b.reshape(8, 1000, 1728)\n",
    "    #     conv5_coeff_4d[kernel_num] = c_3d\n",
    "\n",
    "        # print c_3d.shape ## (8, 1000, 1728)\n",
    "\n",
    "        c_3d = np.abs(c_3d) ## 取绝对值\n",
    "\n",
    "        d_2d = np.mean(c_3d, 0) ## 按照 8 求平均 (1000, 1728)\n",
    "#         print d_2d\n",
    "        print ' '\n",
    "        conv5_coeff_3d[kernel_num] = d_2d ## 存入3维数组对应的kernel\n",
    "        # np.savetxt('/home/jerry/c5_2d.txt', d_2d)\n",
    "#         print conv5_coeff_3d[kernel_num]\n",
    "        \n",
    "        e_1d= np.mean(d_2d, 0) ## (1728,)\n",
    "        conv5_coeff_2d[kernel_num] = e_1d\n",
    "        print 'i: ', i, 'Done'"
   ]
  },
  {
   "cell_type": "code",
   "execution_count": 70,
   "metadata": {},
   "outputs": [],
   "source": [
    "def multi_process():\n",
    "    # p1 = multiprocessing.Process(target = worker, args = (0,64,))\n",
    "    # p2 = multiprocessing.Process(target = worker, args = (64,128,))\n",
    "    # p3 = multiprocessing.Process(target = worker, args = (128,192,))\n",
    "    # p4 = multiprocessing.Process(target = worker, args = (192,256,))\n",
    "\n",
    "    p1 = multiprocessing.Process(target = worker, args = (0,1,))\n",
    "    # p2 = multiprocessing.Process(target = worker, args = (64,65,))\n",
    "    # p3 = multiprocessing.Process(target = worker, args = (128,129,))\n",
    "    # p4 = multiprocessing.Process(target = worker, args = (192,193,))\n",
    "\n",
    "\n",
    "    p1.start()\n",
    "    # p2.start()\n",
    "    # p3.start()\n",
    "    # p4.start()\n",
    "\n",
    "    # print(\"The number of CPU is:\" + str(multiprocessing.cpu_count()))\n",
    "    # for p in multiprocessing.active_children():\n",
    "    #     print(\"child   p.name:\" + p.name + \"\\tp.id\" + str(p.pid))\n",
    "    # print \"END!!!!!!!!!!!!!!!!!\"\n"
   ]
  },
  {
   "cell_type": "code",
   "execution_count": 73,
   "metadata": {},
   "outputs": [
    {
     "name": "stdout",
     "output_type": "stream",
     "text": [
      "0\n",
      "kernel_num:  0\n",
      "1\n",
      "[[0. 0. 0. ... 0. 0. 0.]\n",
      " [0. 0. 0. ... 0. 0. 0.]\n",
      " [0. 0. 0. ... 0. 0. 0.]\n",
      " ...\n",
      " [0. 0. 0. ... 0. 0. 0.]\n",
      " [0. 0. 0. ... 0. 0. 0.]\n",
      " [0. 0. 0. ... 0. 0. 0.]]\n",
      "(13824000,)\n",
      " \n",
      "i:  0 Done\n"
     ]
    }
   ],
   "source": [
    "multi_process()\n",
    "if (conv5_coeff_3d.all() == 0): print 1\n",
    "print conv5_coeff_3d[0]"
   ]
  },
  {
   "cell_type": "code",
   "execution_count": 72,
   "metadata": {},
   "outputs": [
    {
     "name": "stdout",
     "output_type": "stream",
     "text": [
      "1\n",
      "[[0. 0. 0. ... 0. 0. 0.]\n",
      " [0. 0. 0. ... 0. 0. 0.]\n",
      " [0. 0. 0. ... 0. 0. 0.]\n",
      " ...\n",
      " [0. 0. 0. ... 0. 0. 0.]\n",
      " [0. 0. 0. ... 0. 0. 0.]\n",
      " [0. 0. 0. ... 0. 0. 0.]]\n"
     ]
    }
   ],
   "source": []
  },
  {
   "cell_type": "code",
   "execution_count": 47,
   "metadata": {},
   "outputs": [],
   "source": [
    "# (256, 8, 1000, 1728)\n",
    "# (256, 1000, 1728)\n",
    "# (256, 1728)\n",
    "\n",
    "# np.save('/home/jerry/data-alexnet/npy/c5_4d.npy', conv5_coeff_4d)\n",
    "np.save('/home/jerry/data-alexnet/npy/c5_3d.npy', conv5_coeff_3d)\n",
    "np.save('/home/jerry/data-alexnet/npy/c5_2d.npy', conv5_coeff_2d)\n"
   ]
  },
  {
   "cell_type": "code",
   "execution_count": null,
   "metadata": {},
   "outputs": [],
   "source": [
    "# str = \"Line1-abcdef \\nLine2-abc \\nLine4-abcd\";\n",
    "# print str.split( );\n",
    "# print str.split(' ', 1 );"
   ]
  },
  {
   "cell_type": "code",
   "execution_count": 20,
   "metadata": {},
   "outputs": [
    {
     "name": "stdout",
     "output_type": "stream",
     "text": [
      "(13824000,)\n"
     ]
    }
   ],
   "source": [
    "i = 0\n",
    "base = filedir + dir_1[i]\n",
    "d1 = dir_1[i].split(\".\", 1)  ## 分割符，分割次数\n",
    "kernel_num = int(d1[0])\n",
    "#     print base\n",
    "#     print d1\n",
    "#     print kernel_num\n",
    "\n",
    "\n",
    "b = np.loadtxt(base, dtype=np.float32)\n",
    "print b.shape"
   ]
  },
  {
   "cell_type": "code",
   "execution_count": 25,
   "metadata": {},
   "outputs": [
    {
     "name": "stdout",
     "output_type": "stream",
     "text": [
      "0\n",
      "[[1.44528826e-07 2.36466335e-07 2.36815040e-07 ... 1.23985913e-07\n",
      "  1.07867475e-08 7.12413879e-08]\n",
      " [7.80914746e-08 1.99844067e-07 3.59917351e-07 ... 1.74817728e-07\n",
      "  3.64177630e-08 1.85189919e-07]\n",
      " [1.81916263e-07 1.51214067e-07 1.96629586e-07 ... 1.40744930e-07\n",
      "  1.18653070e-08 3.18679092e-08]\n",
      " ...\n",
      " [7.87133274e-08 1.22093240e-07 1.85087785e-07 ... 5.46669483e-08\n",
      "  1.36085463e-08 7.29748777e-08]\n",
      " [8.79909337e-08 2.72080172e-07 2.64818198e-07 ... 8.19374009e-08\n",
      "  2.05165023e-08 1.25887823e-07]\n",
      " [8.96744510e-08 1.37044580e-07 1.95254586e-07 ... 8.39494447e-08\n",
      "  3.15372759e-08 8.01873625e-08]]\n",
      "[[1.44528826e-07 2.36466335e-07 2.36815040e-07 ... 1.23985913e-07\n",
      "  1.07867475e-08 7.12413879e-08]\n",
      " [7.80914746e-08 1.99844067e-07 3.59917351e-07 ... 1.74817728e-07\n",
      "  3.64177630e-08 1.85189919e-07]\n",
      " [1.81916263e-07 1.51214067e-07 1.96629586e-07 ... 1.40744930e-07\n",
      "  1.18653070e-08 3.18679092e-08]\n",
      " ...\n",
      " [7.87133274e-08 1.22093240e-07 1.85087785e-07 ... 5.46669483e-08\n",
      "  1.36085463e-08 7.29748777e-08]\n",
      " [8.79909337e-08 2.72080172e-07 2.64818198e-07 ... 8.19374009e-08\n",
      "  2.05165023e-08 1.25887823e-07]\n",
      " [8.96744510e-08 1.37044580e-07 1.95254586e-07 ... 8.39494447e-08\n",
      "  3.15372759e-08 8.01873625e-08]]\n"
     ]
    }
   ],
   "source": [
    "c_3d = b.reshape(8, 1000, 1728)\n",
    "#     conv5_coeff_4d[kernel_num] = c_3d\n",
    "# print c_3d\n",
    "\n",
    "# print c_3d.shape ## (8, 1000, 1728)\n",
    "\n",
    "c_3d = np.abs(c_3d) ## 取绝对值\n",
    "\n",
    "print kernel_num\n",
    "\n",
    "d_2d = np.mean(c_3d, 0) ## 按照 8 求平均 (1000, 1728)\n",
    "print d_2d\n",
    "\n",
    "\n",
    "conv5_coeff_3d[kernel_num] = d_2d ## 存入3维数组对应的kernel\n",
    "# np.savetxt('/home/jerry/c5_2d.txt', d_2d)\n",
    "print conv5_coeff_3d[0]\n",
    "\n",
    "e_1d= np.mean(d_2d, 0) ## (1728,)\n",
    "conv5_coeff_2d[kernel_num] = e_1d"
   ]
  },
  {
   "cell_type": "code",
   "execution_count": 38,
   "metadata": {},
   "outputs": [],
   "source": [
    "t_dir = './npy/c5_2d.npy'\n",
    "\n",
    "t_1 = np.load(t_dir)"
   ]
  },
  {
   "cell_type": "code",
   "execution_count": 39,
   "metadata": {},
   "outputs": [
    {
     "data": {
      "text/plain": [
       "(256, 1728)"
      ]
     },
     "execution_count": 39,
     "metadata": {},
     "output_type": "execute_result"
    }
   ],
   "source": [
    "t_1.shape"
   ]
  },
  {
   "cell_type": "code",
   "execution_count": 40,
   "metadata": {},
   "outputs": [
    {
     "data": {
      "text/plain": [
       "array([1.98067212e-07, 2.22565717e-07, 3.29617137e-07, ...,\n",
       "       1.67751949e-07, 3.37968196e-08, 1.01581051e-07])"
      ]
     },
     "execution_count": 40,
     "metadata": {},
     "output_type": "execute_result"
    }
   ],
   "source": [
    "t_1[0]"
   ]
  },
  {
   "cell_type": "code",
   "execution_count": null,
   "metadata": {},
   "outputs": [],
   "source": []
  }
 ],
 "metadata": {
  "kernelspec": {
   "display_name": "Python 2",
   "language": "python",
   "name": "python2"
  },
  "language_info": {
   "codemirror_mode": {
    "name": "ipython",
    "version": 2
   },
   "file_extension": ".py",
   "mimetype": "text/x-python",
   "name": "python",
   "nbconvert_exporter": "python",
   "pygments_lexer": "ipython2",
   "version": "2.7.12"
  }
 },
 "nbformat": 4,
 "nbformat_minor": 2
}
